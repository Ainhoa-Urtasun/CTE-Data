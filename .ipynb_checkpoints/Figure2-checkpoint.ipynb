{
 "cells": [
  {
   "cell_type": "code",
   "execution_count": 1,
   "metadata": {},
   "outputs": [],
   "source": [
    "import pandas\n",
    "import numpy\n",
    "import re\n",
    "import nltk\n",
    "from nltk.tokenize import word_tokenize\n",
    "from nltk.corpus import stopwords\n",
    "stop_words = set(stopwords.words('english'))\n",
    "%run distance.ipynb\n",
    "from sklearn import manifold\n",
    "from sklearn.metrics import euclidean_distances\n",
    "import matplotlib.pyplot as plt\n",
    "from matplotlib.patches import Patch"
   ]
  },
  {
   "cell_type": "code",
   "execution_count": 2,
   "metadata": {},
   "outputs": [
    {
     "data": {
      "text/plain": [
       "array([77.90884625, 85.18058533, 87.24611453, 82.9361906 , 84.14889571,\n",
       "       83.23640698])"
      ]
     },
     "execution_count": 2,
     "metadata": {},
     "output_type": "execute_result"
    }
   ],
   "source": [
    "n = 100\n",
    "RR = []\n",
    "DD = []\n",
    "for i in range(n):\n",
    "  mydata = ['DSentry.txt','DSmid.txt','DSsenior.txt','HRSentry.txt','HRSmid.txt','HRSsenior.txt']\n",
    "  mylabel = [('Entry-Level','Data Scientist'),('Mid-Level','Data Scientist'),('Senior-Level','Data Scientist'),('Entry-Level','Human Resource Specialist'),('Mid-Level','Human Resource Specialist'),('Senior-Level','Human Resource Specialist')]\n",
    "  R = []\n",
    "  I = [] \n",
    "  D = []\n",
    "  for file,label in zip(mydata,mylabel):\n",
    "    mydata = pandas.read_csv(file,sep='\\t')\n",
    "    mydata = mydata.sample(50,replace=False)\n",
    "    mydata.description = mydata.description.str.lower() \n",
    "    mydata.description = mydata.description.str.replace(r'\\b[a-z]\\b|\\b[0-9]+\\b','',regex=True)\n",
    "    mydata.description = mydata.description.str.replace(r'/',' ',regex=True)\n",
    "    mydata.description = mydata.description.str.replace(r'.','',regex=True)\n",
    "    mydata.description = mydata.description.str.replace(r'http\\S+','',regex=True)\n",
    "    description = mydata.description.to_list()\n",
    "    description = ','.join(description)\n",
    "    description = word_tokenize(description)\n",
    "    description = [word for word in description if not word in stop_words]\n",
    "    description = [word for word in description if not word in [',','@','!','?','.','–',':','#','’','(',')','%','--','-', \"'\",'&','$','\\n']]\n",
    "    description = [nltk.stem.LancasterStemmer().stem(word) for word in description]\n",
    "    area = len(description)\n",
    "    radius = numpy.sqrt(area/numpy.pi)\n",
    "    area_i = [(term,description.count(term)) for term in description]\n",
    "    area_i = set(area_i)\n",
    "    R.append(radius)\n",
    "    I.append(area_i)\n",
    "  RR.append(R) \n",
    "  for i,j in [(0,1),(0,2),(0,3),(1,2),(1,3),(2,3)]:\n",
    "    a = [(k,min(v,vv)) for (k,v) in I[i] for (kk,vv) in I[j] if k==kk]\n",
    "    area = sum([v for (k,v) in a])\n",
    "    distance = find_d(area,R[i],R[j])\n",
    "    D.append(distance)\n",
    "  DD.append(D)\n",
    "DD = numpy.mean(numpy.array(DD),axis=0)\n",
    "RR = numpy.mean(numpy.array(RR),axis=0)\n",
    "RR"
   ]
  },
  {
   "cell_type": "code",
   "execution_count": 3,
   "metadata": {},
   "outputs": [
    {
     "name": "stdout",
     "output_type": "stream",
     "text": [
      "(4, 4)\n",
      "[[  3.85794347  20.80867044]\n",
      " [-14.67861661 -16.26444323]\n",
      " [-25.52084843   5.98381253]\n",
      " [ 36.34152157 -10.52803974]]\n"
     ]
    }
   ],
   "source": [
    "seed = numpy.random.RandomState(seed=3)\n",
    "ED = numpy.array([[0,DD[0],DD[1],DD[2]],[DD[0],0,DD[3],DD[4]],[DD[1],DD[3],0,DD[5]],[DD[2],DD[4],DD[5],0]])\n",
    "print(ED.shape)\n",
    "mds = manifold.MDS(n_components=2,max_iter=3000,eps=1e-9,random_state=seed,dissimilarity=\"precomputed\",n_jobs=1)\n",
    "dots = mds.fit(ED).embedding_\n",
    "print(dots)"
   ]
  },
  {
   "cell_type": "code",
   "execution_count": 5,
   "metadata": {},
   "outputs": [
    {
     "data": {
      "image/png": "[encoded data removed]",
      "text/plain": [
       "<Figure size 240.48x240.48 with 1 Axes>"
      ]
     },
     "metadata": {
      "needs_background": "light"
     },
     "output_type": "display_data"
    }
   ],
   "source": [
    "plt.rc(\"font\",family=\"Times New Roman\",size=8) \n",
    "fig,ax = plt.subplots(1,1,figsize=(3.34,3.34))\n",
    "ax.add_patch(plt.Circle((dots[0][0],dots[0][1]),RR[0],color='blue',alpha=0.3))\n",
    "ax.plot(dots[0][0],dots[0][1],'x',color='black')\n",
    "ax.text(dots[0][0],dots[0][1]+7,'Entry Level',va='center',ha='center')\n",
    "ax.add_patch(plt.Circle((dots[1][0],dots[1][1]),RR[1],color='blue',alpha=0.3))\n",
    "ax.plot(dots[1][0],dots[1][1],'x',color='black')\n",
    "ax.text(dots[1][0],dots[1][1]+7,'Mid Level',va='center',ha='center')\n",
    "ax.add_patch(plt.Circle((dots[2][0],dots[2][1]),RR[2],color='blue',alpha=0.3))\n",
    "ax.plot(dots[2][0],dots[2][1],'x',color='black')\n",
    "ax.text(dots[2][0],dots[2][1]+7,'Senior Level',va='center',ha='center')\n",
    "ax.add_patch(plt.Circle((dots[3][0],dots[3][1]),RR[3],color='yellow',alpha=0.6))\n",
    "ax.plot(dots[3][0],dots[3][1],'x',color='black')\n",
    "ax.text(dots[3][0],dots[3][1]+7,'HR Specialist',va='center',ha='center')\n",
    "ax.autoscale()\n",
    "ax.set_aspect(\"equal\", adjustable=\"datalim\")\n",
    "ax.set_yticklabels([])\n",
    "ax.set_xticklabels([])\n",
    "ax.grid()\n",
    "plt.show()\n",
    "fig.savefig('Figure2.jpg',dpi=300)"
   ]
  },
  {
   "cell_type": "code",
   "execution_count": null,
   "metadata": {},
   "outputs": [],
   "source": []
  },
  {
   "cell_type": "code",
   "execution_count": null,
   "metadata": {},
   "outputs": [],
   "source": []
  }
 ],
 "metadata": {
  "kernelspec": {
   "display_name": "Python 3 (ipykernel)",
   "language": "python",
   "name": "python3"
  },
  "language_info": {
   "codemirror_mode": {
    "name": "ipython",
    "version": 3
   },
   "file_extension": ".py",
   "mimetype": "text/x-python",
   "name": "python",
   "nbconvert_exporter": "python",
   "pygments_lexer": "ipython3",
   "version": "3.9.6"
  }
 },
 "nbformat": 4,
 "nbformat_minor": 4
}
